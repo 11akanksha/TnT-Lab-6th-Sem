{
 "cells": [
  {
   "cell_type": "markdown",
   "id": "ddee1990",
   "metadata": {},
   "source": [
    "```\n",
    "Name: Akanksha N Shenoy\n",
    "Roll No: 1905373\n",
    "                                            Lab Assignment 11\n",
    "```"
   ]
  },
  {
   "cell_type": "markdown",
   "id": "9b9ebf5f",
   "metadata": {},
   "source": [
    "Q1) Create Lists ,Tuples, Dictionaries and Sets .Print elements stored in\n",
    "each case."
   ]
  },
  {
   "cell_type": "code",
   "execution_count": 1,
   "id": "dc377a50",
   "metadata": {},
   "outputs": [
    {
     "name": "stdout",
     "output_type": "stream",
     "text": [
      "list :  [1, 2, 'Hello', 'World', True]\n",
      "tuple :  ('abcd', 'efgh', 3, 4)\n",
      "dictionary :  {'name': 'Akanksha', 'branch': 'CSE'}\n",
      "set :  {8, 10, 2, 5}\n"
     ]
    }
   ],
   "source": [
    "l = [1,2,'Hello','World',True]\n",
    "t = ('abcd','efgh',3,4)\n",
    "d = {\n",
    "    'name' : 'Akanksha',\n",
    "    'branch' : 'CSE'\n",
    "}\n",
    "\n",
    "s = {8,10,2,5}\n",
    "print('list : ',l)\n",
    "print('tuple : ',t)\n",
    "print('dictionary : ',d)\n",
    "print('set : ',s)"
   ]
  },
  {
   "cell_type": "markdown",
   "id": "7b8515c8",
   "metadata": {},
   "source": [
    "Q2)I) Select the Element kept at 2 nd position. From a List and display it.\n",
    "II)create numpy array by already existing list and display its datatype and\n",
    "dimension."
   ]
  },
  {
   "cell_type": "code",
   "execution_count": 2,
   "id": "22ac7426",
   "metadata": {},
   "outputs": [
    {
     "name": "stdout",
     "output_type": "stream",
     "text": [
      "2\n"
     ]
    }
   ],
   "source": [
    "# (i)\n",
    "print(l[1])"
   ]
  },
  {
   "cell_type": "code",
   "execution_count": 3,
   "id": "0548bc41",
   "metadata": {},
   "outputs": [],
   "source": [
    "import numpy as np"
   ]
  },
  {
   "cell_type": "code",
   "execution_count": 4,
   "id": "a529bb6f",
   "metadata": {},
   "outputs": [
    {
     "name": "stdout",
     "output_type": "stream",
     "text": [
      "<class 'numpy.ndarray'>\n",
      "1\n"
     ]
    }
   ],
   "source": [
    "# (ii)\n",
    "n = np.array(l)\n",
    "print(type(n))\n",
    "print(n.ndim)"
   ]
  },
  {
   "cell_type": "markdown",
   "id": "d458b1eb",
   "metadata": {},
   "source": [
    "Q3)Use range function to generate values with name RangeVar. Keep\n",
    "lower bound as 1, higher bound 50. and each value should have\n",
    "difference of 10."
   ]
  },
  {
   "cell_type": "code",
   "execution_count": 5,
   "id": "bff7ed30",
   "metadata": {},
   "outputs": [
    {
     "name": "stdout",
     "output_type": "stream",
     "text": [
      "1\n",
      "11\n",
      "21\n",
      "31\n",
      "41\n",
      "[1, 11, 21, 31, 41]\n"
     ]
    }
   ],
   "source": [
    "RangeVar = range(1,50,10)\n",
    "R = list()\n",
    "for i in RangeVar:\n",
    "    print(i)\n",
    "    R.append(i)\n",
    "print(R)"
   ]
  },
  {
   "cell_type": "markdown",
   "id": "777ac66a",
   "metadata": {},
   "source": [
    "Q4)Create a string ‘Techniquelab’. Find out the character at 5 th position.\n",
    "Find out the index of ‘l’ in the string."
   ]
  },
  {
   "cell_type": "code",
   "execution_count": 6,
   "id": "16aacf81",
   "metadata": {},
   "outputs": [
    {
     "name": "stdout",
     "output_type": "stream",
     "text": [
      "n\n",
      "9\n"
     ]
    }
   ],
   "source": [
    "st = 'Techniquelab'\n",
    "# at 5th position means at index 4\n",
    "print(st[4])\n",
    "print(st.index('l'))"
   ]
  },
  {
   "cell_type": "markdown",
   "id": "698e9ead",
   "metadata": {},
   "source": [
    "Q5)In 3rd question, the values populted in RangeVar.Find out if 11 exists\n",
    "and also find out the value at 3 rd index."
   ]
  },
  {
   "cell_type": "code",
   "execution_count": 7,
   "id": "3ce6b659",
   "metadata": {},
   "outputs": [
    {
     "name": "stdout",
     "output_type": "stream",
     "text": [
      "True\n",
      "31\n"
     ]
    }
   ],
   "source": [
    "print(11 in R)\n",
    "print(R[3])"
   ]
  },
  {
   "cell_type": "markdown",
   "id": "d7699a20",
   "metadata": {},
   "source": [
    "Q6)Create a list with values 100, ‘Alice’, 12 and ‘Programmer’.Display the\n",
    "whole list.Then add value ‘Python’ to the list and display the modified\n",
    "list."
   ]
  },
  {
   "cell_type": "code",
   "execution_count": 8,
   "id": "b4964122",
   "metadata": {},
   "outputs": [
    {
     "name": "stdout",
     "output_type": "stream",
     "text": [
      "[100, 'Alice', 12, 'Programmer']\n"
     ]
    }
   ],
   "source": [
    "li = [100,'Alice',12,'Programmer']\n",
    "print(li)"
   ]
  },
  {
   "cell_type": "code",
   "execution_count": 9,
   "id": "26b3ff56",
   "metadata": {},
   "outputs": [
    {
     "name": "stdout",
     "output_type": "stream",
     "text": [
      "[100, 'Alice', 12, 'Programmer', 'python']\n"
     ]
    }
   ],
   "source": [
    "li.append('python')\n",
    "print(li)"
   ]
  },
  {
   "cell_type": "markdown",
   "id": "21559fea",
   "metadata": {},
   "source": [
    "Q7)Create a tuple with values:100, ‘Alice’, 12 and ‘Programmer’.Display\n",
    "the tuple.Then add values ‘Python’ and ‘ML’ to it and display the\n",
    "modified tuple."
   ]
  },
  {
   "cell_type": "code",
   "execution_count": 10,
   "id": "6fc8d703",
   "metadata": {},
   "outputs": [
    {
     "name": "stdout",
     "output_type": "stream",
     "text": [
      "(100, 'Alice', 12, 'Programmer')\n"
     ]
    }
   ],
   "source": [
    "tu = (100,'Alice',12,'Programmer')\n",
    "print(tu)"
   ]
  },
  {
   "cell_type": "code",
   "execution_count": 11,
   "id": "12d91cd4",
   "metadata": {},
   "outputs": [
    {
     "name": "stdout",
     "output_type": "stream",
     "text": [
      "(100, 'Alice', 12, 'Programmer', 'Python', 'ML')\n"
     ]
    }
   ],
   "source": [
    "tu += ('Python','ML')\n",
    "print(tu)"
   ]
  },
  {
   "cell_type": "markdown",
   "id": "c6df884b",
   "metadata": {},
   "source": [
    "Q8)In the tuple with values :100, ‘Alice’, 12 and ‘Programmer’,print the\n",
    "values from index 0 to 2 ,getting displayed on console thrice."
   ]
  },
  {
   "cell_type": "code",
   "execution_count": 12,
   "id": "b06333f4",
   "metadata": {},
   "outputs": [
    {
     "name": "stdout",
     "output_type": "stream",
     "text": [
      "(100, 'Alice')\n",
      "(100, 'Alice')\n",
      "(100, 'Alice')\n"
     ]
    }
   ],
   "source": [
    "tup = (100,'Alice',12,'Programmer')\n",
    "for _ in range(3):\n",
    "    print(tup[0:2])"
   ]
  },
  {
   "cell_type": "code",
   "execution_count": null,
   "id": "98a7b88c",
   "metadata": {},
   "outputs": [],
   "source": []
  }
 ],
 "metadata": {
  "kernelspec": {
   "display_name": "Python 3",
   "language": "python",
   "name": "python3"
  },
  "language_info": {
   "codemirror_mode": {
    "name": "ipython",
    "version": 3
   },
   "file_extension": ".py",
   "mimetype": "text/x-python",
   "name": "python",
   "nbconvert_exporter": "python",
   "pygments_lexer": "ipython3",
   "version": "3.8.8"
  }
 },
 "nbformat": 4,
 "nbformat_minor": 5
}
