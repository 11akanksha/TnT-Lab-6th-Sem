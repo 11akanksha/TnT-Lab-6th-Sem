{
 "cells": [
  {
   "cell_type": "markdown",
   "id": "86937588",
   "metadata": {},
   "source": [
    "Q1.A sphere has radius equal to 6, calculate its the volume . An\n",
    "approximate value would do."
   ]
  },
  {
   "cell_type": "code",
   "execution_count": 1,
   "id": "f6c448e8",
   "metadata": {},
   "outputs": [
    {
     "name": "stdout",
     "output_type": "stream",
     "text": [
      "904.7779199999999\n"
     ]
    }
   ],
   "source": [
    "radius = 6\n",
    "pi = 3.14159\n",
    "volume = (4/3) * (pi) * radius*radius * radius\n",
    "print(volume)"
   ]
  },
  {
   "cell_type": "markdown",
   "id": "4872b461",
   "metadata": {},
   "source": [
    "Q2.The marks obtained by a student in Physics, Chemistry,English and\n",
    "Maths are 92, 72, 83, and 65 respectively.Add 5 marks to science subjects\n",
    "and find the average marks obtained by him.Calculate the grade using if\n",
    "else statement."
   ]
  },
  {
   "cell_type": "code",
   "execution_count": 2,
   "id": "fd33f468",
   "metadata": {},
   "outputs": [
    {
     "name": "stdout",
     "output_type": "stream",
     "text": [
      "average marks :  80.5\n"
     ]
    }
   ],
   "source": [
    "phy,chem,eng,math = 92,72,83,65\n",
    "science_subs = (phy + 5) + (chem + 5)\n",
    "average_marks = (science_subs + eng + math)/4\n",
    "print('average marks : ' , average_marks)"
   ]
  },
  {
   "cell_type": "code",
   "execution_count": 3,
   "id": "126271ff",
   "metadata": {},
   "outputs": [
    {
     "name": "stdout",
     "output_type": "stream",
     "text": [
      "Overall Grade :  E Grade\n",
      "Grade in Physics :  O Grade\n",
      "Grade in Chemistry:  A Grade\n",
      "Grade in Maths:  B Grade\n",
      "Grade in English:  E Grade\n"
     ]
    }
   ],
   "source": [
    "def Grade(marks):\n",
    "    if(marks >= 90):\n",
    "        return('O Grade')\n",
    "    elif(marks >= 80):\n",
    "        return('E Grade')\n",
    "    elif(marks >= 70):\n",
    "        return('A Grade')\n",
    "    elif(marks>= 60):\n",
    "        return('B Grade')\n",
    "    elif(marks >= 50):\n",
    "        return('C Grade')\n",
    "    elif(marks >= 40):\n",
    "        return('D Grade')\n",
    "    else:\n",
    "        return('Fail')\n",
    "print('Overall Grade : ' , Grade(average_marks))\n",
    "print('Grade in Physics : ' , Grade(phy))\n",
    "print('Grade in Chemistry: ' , Grade(chem))\n",
    "print('Grade in Maths: ' , Grade(math))\n",
    "print('Grade in English: ' , Grade(eng))"
   ]
  },
  {
   "cell_type": "markdown",
   "id": "84efdb63",
   "metadata": {},
   "source": [
    "Q3.A)Write a program which uses a person_age to print number of years\n",
    "left for retirement (a person retires at 65).\n",
    "B)You can ask the age from the user as well\n",
    "• age = input('How old are you? ')."
   ]
  },
  {
   "cell_type": "code",
   "execution_count": 4,
   "id": "210339c0",
   "metadata": {},
   "outputs": [
    {
     "name": "stdout",
     "output_type": "stream",
     "text": [
      "No of years left for retirement :  35\n"
     ]
    }
   ],
   "source": [
    "#A)\n",
    "person_age = 30\n",
    "def yrs_left(age):\n",
    "    return 65 - person_age\n",
    "print('No of years left for retirement : ', yrs_left(person_age))"
   ]
  },
  {
   "cell_type": "code",
   "execution_count": 5,
   "id": "4b2fc2cd",
   "metadata": {},
   "outputs": [
    {
     "name": "stdout",
     "output_type": "stream",
     "text": [
      "Enter your age : 21\n",
      "No of years left for retirement :  44\n"
     ]
    }
   ],
   "source": [
    "#B)\n",
    "person_age = int(input('Enter your age : '))\n",
    "print('No of years left for retirement : ', yrs_left(person_age))"
   ]
  },
  {
   "cell_type": "markdown",
   "id": "7ca5824f",
   "metadata": {},
   "source": [
    "```\n",
    "Q4. A student campus has got 3 divisions of girls and 5 divisions of boys.\n",
    "Write a program which asks the user to input number of boys and girls in\n",
    "each division using for loop.It should print:\n",
    "• number of girls,\n",
    "• number of boys\n",
    "• total number of students.\n",
    "Sections:3 for girls A,B,C\n",
    "Section :5 for boys A,B,C,D,E\n",
    "```"
   ]
  },
  {
   "cell_type": "code",
   "execution_count": 6,
   "id": "c7ff96a2",
   "metadata": {},
   "outputs": [
    {
     "name": "stdout",
     "output_type": "stream",
     "text": [
      "Enter no of girls in section 1 : 10\n",
      "Enter no of girls in section 2 : 10\n",
      "Enter no of girls in section 3 : 20\n",
      "Enter no of boys in section 1 : 30\n",
      "Enter no of boys in section 2 : 20\n",
      "Enter no of boys in section 3 : 30\n",
      "Enter no of boys in section 4 : 40\n",
      "Enter no of boys in section 5 : 50\n",
      "Total girls :  40\n",
      "Total boys :  170\n",
      "Total students :  210\n"
     ]
    }
   ],
   "source": [
    "girls,boys = 0,0\n",
    "\n",
    "for i in range(3):\n",
    "    girls_per_section = int(input(f'Enter no of girls in section {i+1} : '))\n",
    "    girls += girls_per_section\n",
    "\n",
    "for i in range(5):\n",
    "    boys_per_section = int(input(f'Enter no of boys in section {i+1} : '))\n",
    "    boys += boys_per_section\n",
    "\n",
    "print('Total girls : ' , girls)\n",
    "print('Total boys : ' , boys)\n",
    "print('Total students : ' , girls + boys)"
   ]
  },
  {
   "cell_type": "markdown",
   "id": "41d47400",
   "metadata": {},
   "source": [
    "Q5.Write a Python program that prompts the user for his/her amount of\n",
    "money,then reports how many jean pants the person can afford, and how\n",
    "much more money he/she will need to afford an additional jean pant (cost\n",
    "of jean pant = need to afford an additional jean pant. (cost of jean pant =\n",
    "750)"
   ]
  },
  {
   "cell_type": "code",
   "execution_count": 7,
   "id": "ce9cbe19",
   "metadata": {},
   "outputs": [
    {
     "name": "stdout",
     "output_type": "stream",
     "text": [
      "How much money have you kept to buy jeans? : 1500\n",
      "You can buy :  2  jeans.\n",
      "To buy one more,you need :  750  more units of money\n"
     ]
    }
   ],
   "source": [
    "budget = int(input('How much money have you kept to buy jeans? : '))\n",
    "no_of_jeans = budget//750\n",
    "more_amt_needed = ((no_of_jeans + 1) * 750) - budget\n",
    "print('You can buy : ' , no_of_jeans , ' jeans.')\n",
    "print('To buy one more,you need : ' , more_amt_needed , ' more units of money')"
   ]
  },
  {
   "cell_type": "markdown",
   "id": "0db0469c",
   "metadata": {},
   "source": [
    " ```\n",
    "Q6.a) Write a program which converts 13 hours and 32 minutes into\n",
    "seconds.\n",
    "B) WAP to convert given second into its equivalent hour, minute and\n",
    "second as per the following format. Ex. 8860 second = 2 Hour, 27 Minute\n",
    "and 40 Second\n",
    "```"
   ]
  },
  {
   "cell_type": "code",
   "execution_count": 8,
   "id": "af737ed7",
   "metadata": {},
   "outputs": [
    {
     "name": "stdout",
     "output_type": "stream",
     "text": [
      "13 hrs and 32 min is  48720 seconds\n",
      "Total seconds :  8860\n"
     ]
    }
   ],
   "source": [
    "#A)\n",
    "hrs,minutes = 13,32\n",
    "sec = (hrs*3600) + (minutes*60)\n",
    "print('13 hrs and 32 min is ' , sec , 'seconds')\n",
    "\n",
    "#B)\n",
    "hrs,minutes,sec = 2,27,40\n",
    "sec += (hrs*3600) + (minutes*60)\n",
    "print('Total seconds : ', sec)"
   ]
  },
  {
   "cell_type": "markdown",
   "id": "f0f1ed8e",
   "metadata": {},
   "source": [
    "Q7.WAP to find the roots of a quadratic equation ax 2 +bx+c=0 using if-\n",
    "else statement."
   ]
  },
  {
   "cell_type": "code",
   "execution_count": 9,
   "id": "4ac54be4",
   "metadata": {},
   "outputs": [
    {
     "name": "stdout",
     "output_type": "stream",
     "text": [
      "Enter values of a,b and c : 2 3 4\n",
      "Imaginary roots\n"
     ]
    }
   ],
   "source": [
    "a,b,c = map(int,input('Enter values of a,b and c : ').split())\n",
    "d = b*b - 4*a*c\n",
    "\n",
    "if d < 0:\n",
    "    print('Imaginary roots')\n",
    "elif d == 0:\n",
    "    roots = -b/(2*a)\n",
    "    print('Real and equal roots : ' , roots)\n",
    "else:\n",
    "    root1 = (-b + (d**0.5))/(2*a)\n",
    "    root2 = (-b - (d**0.5))/(2*a)\n",
    "    print('Real and different roots: ',root1,' and ' , root2)"
   ]
  },
  {
   "cell_type": "markdown",
   "id": "dfff3593",
   "metadata": {},
   "source": [
    "Q8.WAP to check whether a number n is prime number or not."
   ]
  },
  {
   "cell_type": "code",
   "execution_count": 10,
   "id": "4aee6a51",
   "metadata": {},
   "outputs": [
    {
     "name": "stdout",
     "output_type": "stream",
     "text": [
      "Enter a number : 7\n",
      "A prime no\n"
     ]
    }
   ],
   "source": [
    "no = int(input('Enter a number : '))\n",
    "c = 0\n",
    "\n",
    "for i in range(2,no):\n",
    "    if no%i == 0:\n",
    "        c+=1\n",
    "        break\n",
    "if c!=0 : \n",
    "    print('Not prime')\n",
    "else:\n",
    "    print('A prime no')"
   ]
  },
  {
   "cell_type": "markdown",
   "id": "a381e329",
   "metadata": {},
   "source": [
    "Q9.WAP to find the first n numbers of a Fibonacci sequence."
   ]
  },
  {
   "cell_type": "code",
   "execution_count": 11,
   "id": "1b238c95",
   "metadata": {},
   "outputs": [
    {
     "name": "stdout",
     "output_type": "stream",
     "text": [
      "Enter number of terms: 7\n",
      "Fibonacci sequence:\n",
      "0\n",
      "1\n",
      "1\n",
      "2\n",
      "3\n",
      "5\n",
      "8\n"
     ]
    }
   ],
   "source": [
    "number_of_terms = int(input('Enter number of terms: '))\n",
    "\n",
    "n1,n2 = 0,1\n",
    "count = 0\n",
    "\n",
    "# check if the number of terms is valid\n",
    "if number_of_terms <= 0:\n",
    "    print(\"Please enter a positive integer\")\n",
    "# if there is only one term, return n1\n",
    "elif number_of_terms == 1:\n",
    "    print(\"Fibonacci sequence upto \",number_of_terms,\" : \")\n",
    "    print(n1)\n",
    "# generate fibonacci sequence\n",
    "else:\n",
    "    print(\"Fibonacci sequence:\")\n",
    "    while count < number_of_terms:\n",
    "        print(n1)\n",
    "        nth = n1 + n2\n",
    "        # update values\n",
    "        n1 = n2\n",
    "        n2 = nth\n",
    "        count += 1"
   ]
  },
  {
   "cell_type": "markdown",
   "id": "30ffe606",
   "metadata": {},
   "source": [
    "Q.10.WAP to calculate the factorial of a given number."
   ]
  },
  {
   "cell_type": "code",
   "execution_count": 12,
   "id": "9083eda2",
   "metadata": {},
   "outputs": [
    {
     "name": "stdout",
     "output_type": "stream",
     "text": [
      "Enter a number: 6\n",
      "Factorial of the number:  720\n"
     ]
    }
   ],
   "source": [
    "n = int(input('Enter a number: '))\n",
    "fact = 1\n",
    "for i in range(2,n+1):\n",
    "    fact *=i\n",
    "\n",
    "print('Factorial of the number: ' , fact)"
   ]
  }
 ],
 "metadata": {
  "kernelspec": {
   "display_name": "Python 3",
   "language": "python",
   "name": "python3"
  },
  "language_info": {
   "codemirror_mode": {
    "name": "ipython",
    "version": 3
   },
   "file_extension": ".py",
   "mimetype": "text/x-python",
   "name": "python",
   "nbconvert_exporter": "python",
   "pygments_lexer": "ipython3",
   "version": "3.8.8"
  }
 },
 "nbformat": 4,
 "nbformat_minor": 5
}
