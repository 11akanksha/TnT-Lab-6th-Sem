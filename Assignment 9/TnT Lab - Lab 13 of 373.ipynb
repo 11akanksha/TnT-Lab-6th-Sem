{
 "cells": [
  {
   "cell_type": "markdown",
   "id": "e2156090",
   "metadata": {},
   "source": [
    "# TNT Lab- Lab 9\n",
    "### Of:\n",
    "Akanksha N Shenoy, 1905373"
   ]
  },
  {
   "cell_type": "code",
   "execution_count": 1,
   "id": "2072a576",
   "metadata": {},
   "outputs": [],
   "source": [
    "import pandas as pd\n",
    "import numpy as np\n",
    "import matplotlib.pyplot as plt\n",
    "from sklearn.model_selection import train_test_split\n",
    "from sklearn import preprocessing\n",
    "import seaborn as sns\n",
    "\n",
    "from sklearn.linear_model import LogisticRegression\n",
    "from sklearn.neighbors import KNeighborsClassifier\n",
    "from sklearn.tree import DecisionTreeClassifier\n",
    "from sklearn.naive_bayes import GaussianNB\n",
    "from sklearn.svm import SVC\n",
    "from sklearn.ensemble import GradientBoostingClassifier\n",
    "from sklearn.ensemble import AdaBoostClassifier\n",
    "from sklearn.ensemble import RandomForestClassifier\n",
    "\n",
    "from sklearn.metrics import confusion_matrix\n",
    "from sklearn.metrics import accuracy_score\n",
    "from sklearn.metrics import recall_score\n",
    "from sklearn.metrics import precision_score\n",
    "from sklearn.metrics import f1_score"
   ]
  },
  {
   "cell_type": "code",
   "execution_count": 2,
   "id": "46bda142",
   "metadata": {},
   "outputs": [],
   "source": [
    "import warnings\n",
    "warnings.filterwarnings('ignore')"
   ]
  },
  {
   "cell_type": "code",
   "execution_count": 3,
   "id": "4197bb19",
   "metadata": {},
   "outputs": [],
   "source": [
    "df = pd.read_csv('Social_Network_Ads.csv')"
   ]
  },
  {
   "cell_type": "code",
   "execution_count": 4,
   "id": "0148061a",
   "metadata": {},
   "outputs": [
    {
     "data": {
      "text/html": [
       "<div>\n",
       "<style scoped>\n",
       "    .dataframe tbody tr th:only-of-type {\n",
       "        vertical-align: middle;\n",
       "    }\n",
       "\n",
       "    .dataframe tbody tr th {\n",
       "        vertical-align: top;\n",
       "    }\n",
       "\n",
       "    .dataframe thead th {\n",
       "        text-align: right;\n",
       "    }\n",
       "</style>\n",
       "<table border=\"1\" class=\"dataframe\">\n",
       "  <thead>\n",
       "    <tr style=\"text-align: right;\">\n",
       "      <th></th>\n",
       "      <th>Age</th>\n",
       "      <th>EstimatedSalary</th>\n",
       "      <th>Purchased</th>\n",
       "    </tr>\n",
       "  </thead>\n",
       "  <tbody>\n",
       "    <tr>\n",
       "      <th>0</th>\n",
       "      <td>19</td>\n",
       "      <td>19000</td>\n",
       "      <td>0</td>\n",
       "    </tr>\n",
       "    <tr>\n",
       "      <th>1</th>\n",
       "      <td>35</td>\n",
       "      <td>20000</td>\n",
       "      <td>0</td>\n",
       "    </tr>\n",
       "    <tr>\n",
       "      <th>2</th>\n",
       "      <td>26</td>\n",
       "      <td>43000</td>\n",
       "      <td>0</td>\n",
       "    </tr>\n",
       "    <tr>\n",
       "      <th>3</th>\n",
       "      <td>27</td>\n",
       "      <td>57000</td>\n",
       "      <td>0</td>\n",
       "    </tr>\n",
       "    <tr>\n",
       "      <th>4</th>\n",
       "      <td>19</td>\n",
       "      <td>76000</td>\n",
       "      <td>0</td>\n",
       "    </tr>\n",
       "  </tbody>\n",
       "</table>\n",
       "</div>"
      ],
      "text/plain": [
       "   Age  EstimatedSalary  Purchased\n",
       "0   19            19000          0\n",
       "1   35            20000          0\n",
       "2   26            43000          0\n",
       "3   27            57000          0\n",
       "4   19            76000          0"
      ]
     },
     "execution_count": 4,
     "metadata": {},
     "output_type": "execute_result"
    }
   ],
   "source": [
    "df.head()"
   ]
  },
  {
   "cell_type": "code",
   "execution_count": 5,
   "id": "172d96ed",
   "metadata": {},
   "outputs": [
    {
     "name": "stdout",
     "output_type": "stream",
     "text": [
      "<class 'pandas.core.frame.DataFrame'>\n",
      "RangeIndex: 400 entries, 0 to 399\n",
      "Data columns (total 3 columns):\n",
      " #   Column           Non-Null Count  Dtype\n",
      "---  ------           --------------  -----\n",
      " 0   Age              400 non-null    int64\n",
      " 1   EstimatedSalary  400 non-null    int64\n",
      " 2   Purchased        400 non-null    int64\n",
      "dtypes: int64(3)\n",
      "memory usage: 9.5 KB\n"
     ]
    }
   ],
   "source": [
    "df.info()"
   ]
  },
  {
   "cell_type": "code",
   "execution_count": 6,
   "id": "54985c42",
   "metadata": {},
   "outputs": [
    {
     "data": {
      "text/html": [
       "<style  type=\"text/css\" >\n",
       "#T_3417c_row0_col0,#T_3417c_row1_col1,#T_3417c_row2_col2{\n",
       "            background-color:  #b40426;\n",
       "            color:  #f1f1f1;\n",
       "        }#T_3417c_row0_col1,#T_3417c_row1_col0,#T_3417c_row1_col2{\n",
       "            background-color:  #3b4cc0;\n",
       "            color:  #f1f1f1;\n",
       "        }#T_3417c_row0_col2{\n",
       "            background-color:  #c3d5f4;\n",
       "            color:  #000000;\n",
       "        }#T_3417c_row2_col0{\n",
       "            background-color:  #ead5c9;\n",
       "            color:  #000000;\n",
       "        }#T_3417c_row2_col1{\n",
       "            background-color:  #8badfd;\n",
       "            color:  #000000;\n",
       "        }</style><table id=\"T_3417c_\" ><thead>    <tr>        <th class=\"blank level0\" ></th>        <th class=\"col_heading level0 col0\" >Age</th>        <th class=\"col_heading level0 col1\" >EstimatedSalary</th>        <th class=\"col_heading level0 col2\" >Purchased</th>    </tr></thead><tbody>\n",
       "                <tr>\n",
       "                        <th id=\"T_3417c_level0_row0\" class=\"row_heading level0 row0\" >Age</th>\n",
       "                        <td id=\"T_3417c_row0_col0\" class=\"data row0 col0\" >1.000000</td>\n",
       "                        <td id=\"T_3417c_row0_col1\" class=\"data row0 col1\" >0.155238</td>\n",
       "                        <td id=\"T_3417c_row0_col2\" class=\"data row0 col2\" >0.622454</td>\n",
       "            </tr>\n",
       "            <tr>\n",
       "                        <th id=\"T_3417c_level0_row1\" class=\"row_heading level0 row1\" >EstimatedSalary</th>\n",
       "                        <td id=\"T_3417c_row1_col0\" class=\"data row1 col0\" >0.155238</td>\n",
       "                        <td id=\"T_3417c_row1_col1\" class=\"data row1 col1\" >1.000000</td>\n",
       "                        <td id=\"T_3417c_row1_col2\" class=\"data row1 col2\" >0.362083</td>\n",
       "            </tr>\n",
       "            <tr>\n",
       "                        <th id=\"T_3417c_level0_row2\" class=\"row_heading level0 row2\" >Purchased</th>\n",
       "                        <td id=\"T_3417c_row2_col0\" class=\"data row2 col0\" >0.622454</td>\n",
       "                        <td id=\"T_3417c_row2_col1\" class=\"data row2 col1\" >0.362083</td>\n",
       "                        <td id=\"T_3417c_row2_col2\" class=\"data row2 col2\" >1.000000</td>\n",
       "            </tr>\n",
       "    </tbody></table>"
      ],
      "text/plain": [
       "<pandas.io.formats.style.Styler at 0x2bab2443f70>"
      ]
     },
     "execution_count": 6,
     "metadata": {},
     "output_type": "execute_result"
    }
   ],
   "source": [
    "corr = df.corr()\n",
    "corr.style.background_gradient(cmap='coolwarm')"
   ]
  },
  {
   "cell_type": "code",
   "execution_count": 7,
   "id": "85fe1474",
   "metadata": {},
   "outputs": [
    {
     "data": {
      "text/plain": [
       "((320, 2), (320,), (80, 2), (80,))"
      ]
     },
     "execution_count": 7,
     "metadata": {},
     "output_type": "execute_result"
    }
   ],
   "source": [
    "x_train, x_test, y_train, y_test = train_test_split(df.drop(columns = ['Purchased']), df['Purchased'], test_size = 0.2)\n",
    "x_train.shape, y_train.shape, x_test.shape, y_test.shape"
   ]
  },
  {
   "cell_type": "code",
   "execution_count": 8,
   "id": "ad8b6d69",
   "metadata": {},
   "outputs": [],
   "source": [
    "algos = []\n",
    "accuracy = []\n",
    "recall = []\n",
    "precision = []\n",
    "f1Score = []\n",
    "specificity = []"
   ]
  },
  {
   "cell_type": "code",
   "execution_count": 9,
   "id": "a50dc8a9",
   "metadata": {},
   "outputs": [
    {
     "name": "stdout",
     "output_type": "stream",
     "text": [
      "Logistic Regression\n",
      "[[45  0]\n",
      " [35  0]] \n",
      "\n",
      "\n",
      "Accuracy: 56.25\n",
      "Recall: 0.0\n",
      "Precision: 0.0\n",
      "F score: 0.0\n",
      "Specificity: 1.0\n"
     ]
    }
   ],
   "source": [
    "algo = \"Logistic Regression\"\n",
    "model = LogisticRegression()\n",
    "model.fit(x_train, y_train)\n",
    "y_pred = model.predict(x_test)\n",
    "print(algo)\n",
    "print(confusion_matrix(y_test, y_pred), '\\n\\n')\n",
    "acc = accuracy_score(y_test, y_pred) * 100\n",
    "print('Accuracy:', acc)\n",
    "rec = recall_score(y_test, y_pred) * 100\n",
    "print('Recall:', rec)\n",
    "pre = precision_score(y_test, y_pred) * 100\n",
    "print('Precision:', pre)\n",
    "f1s = f1_score(y_test, y_pred) * 100\n",
    "print('F score:', f1s)\n",
    "tn, fp, fn, tp = confusion_matrix(y_test, y_pred).ravel()\n",
    "spc = tn / (tn+fp)\n",
    "print('Specificity:', spc)\n",
    "\n",
    "algos.append(algo)\n",
    "accuracy.append(acc)\n",
    "recall.append(rec)\n",
    "precision.append(pre)\n",
    "f1Score.append(f1s)\n",
    "specificity.append(spc)"
   ]
  },
  {
   "cell_type": "code",
   "execution_count": 10,
   "id": "4b49e271",
   "metadata": {},
   "outputs": [
    {
     "name": "stdout",
     "output_type": "stream",
     "text": [
      "K Nearest Neighbour\n",
      "[[42  3]\n",
      " [14 21]] \n",
      "\n",
      "\n",
      "Accuracy: 78.75\n",
      "Recall: 60.0\n",
      "Precision: 87.5\n",
      "F score: 71.1864406779661\n",
      "Specificity: 0.9333333333333333\n"
     ]
    }
   ],
   "source": [
    "algo = \"K Nearest Neighbour\"\n",
    "model = KNeighborsClassifier()\n",
    "model.fit(x_train, y_train)\n",
    "y_pred = model.predict(x_test)\n",
    "print(algo)\n",
    "print(confusion_matrix(y_test, y_pred), '\\n\\n')\n",
    "acc = accuracy_score(y_test, y_pred) * 100\n",
    "print('Accuracy:', acc)\n",
    "rec = recall_score(y_test, y_pred) * 100\n",
    "print('Recall:', rec)\n",
    "pre = precision_score(y_test, y_pred) * 100\n",
    "print('Precision:', pre)\n",
    "f1s = f1_score(y_test, y_pred) * 100\n",
    "print('F score:', f1s)\n",
    "tn, fp, fn, tp = confusion_matrix(y_test, y_pred).ravel()\n",
    "spc = tn / (tn+fp)\n",
    "print('Specificity:', spc)\n",
    "\n",
    "algos.append(algo)\n",
    "accuracy.append(acc)\n",
    "recall.append(rec)\n",
    "precision.append(pre)\n",
    "f1Score.append(f1s)\n",
    "specificity.append(spc)"
   ]
  },
  {
   "cell_type": "code",
   "execution_count": 11,
   "id": "cbaefe74",
   "metadata": {},
   "outputs": [
    {
     "name": "stdout",
     "output_type": "stream",
     "text": [
      "Decision Tree\n",
      "[[40  5]\n",
      " [10 25]] \n",
      "\n",
      "\n",
      "Accuracy: 81.25\n",
      "Recall: 71.42857142857143\n",
      "Precision: 83.33333333333334\n",
      "F score: 76.92307692307692\n",
      "Specificity: 0.8888888888888888\n"
     ]
    }
   ],
   "source": [
    "algo = \"Decision Tree\"\n",
    "model = DecisionTreeClassifier()\n",
    "model.fit(x_train, y_train)\n",
    "y_pred = model.predict(x_test)\n",
    "print(algo)\n",
    "print(confusion_matrix(y_test, y_pred), '\\n\\n')\n",
    "acc = accuracy_score(y_test, y_pred) * 100\n",
    "print('Accuracy:', acc)\n",
    "rec = recall_score(y_test, y_pred) * 100\n",
    "print('Recall:', rec)\n",
    "pre = precision_score(y_test, y_pred) * 100\n",
    "print('Precision:', pre)\n",
    "f1s = f1_score(y_test, y_pred) * 100\n",
    "print('F score:', f1s)\n",
    "tn, fp, fn, tp = confusion_matrix(y_test, y_pred).ravel()\n",
    "spc = tn / (tn+fp)\n",
    "print('Specificity:', spc)\n",
    "\n",
    "algos.append(algo)\n",
    "accuracy.append(acc)\n",
    "recall.append(rec)\n",
    "precision.append(pre)\n",
    "f1Score.append(f1s)\n",
    "specificity.append(spc)"
   ]
  },
  {
   "cell_type": "code",
   "execution_count": 12,
   "id": "f4d14cd6",
   "metadata": {},
   "outputs": [
    {
     "name": "stdout",
     "output_type": "stream",
     "text": [
      "Naive Bayes\n",
      "[[42  3]\n",
      " [ 5 30]] \n",
      "\n",
      "\n",
      "Accuracy: 90.0\n",
      "Recall: 85.71428571428571\n",
      "Precision: 90.9090909090909\n",
      "F score: 88.23529411764706\n",
      "Specificity: 0.9333333333333333\n"
     ]
    }
   ],
   "source": [
    "algo = \"Naive Bayes\"\n",
    "model = GaussianNB()\n",
    "model.fit(x_train, y_train)\n",
    "y_pred = model.predict(x_test)\n",
    "print(algo)\n",
    "print(confusion_matrix(y_test, y_pred), '\\n\\n')\n",
    "acc = accuracy_score(y_test, y_pred) * 100\n",
    "print('Accuracy:', acc)\n",
    "rec = recall_score(y_test, y_pred) * 100\n",
    "print('Recall:', rec)\n",
    "pre = precision_score(y_test, y_pred) * 100\n",
    "print('Precision:', pre)\n",
    "f1s = f1_score(y_test, y_pred) * 100\n",
    "print('F score:', f1s)\n",
    "tn, fp, fn, tp = confusion_matrix(y_test, y_pred).ravel()\n",
    "spc = tn / (tn+fp)\n",
    "print('Specificity:', spc)\n",
    "\n",
    "algos.append(algo)\n",
    "accuracy.append(acc)\n",
    "recall.append(rec)\n",
    "precision.append(pre)\n",
    "f1Score.append(f1s)\n",
    "specificity.append(spc)"
   ]
  },
  {
   "cell_type": "code",
   "execution_count": 13,
   "id": "d5378ca3",
   "metadata": {},
   "outputs": [
    {
     "name": "stdout",
     "output_type": "stream",
     "text": [
      "SVM\n",
      "[[42  3]\n",
      " [18 17]] \n",
      "\n",
      "\n",
      "Accuracy: 73.75\n",
      "Recall: 48.57142857142857\n",
      "Precision: 85.0\n",
      "F score: 61.81818181818183\n",
      "Specificity: 0.9333333333333333\n"
     ]
    }
   ],
   "source": [
    "algo = \"SVM\"\n",
    "model = SVC(kernel='rbf')\n",
    "model.fit(x_train, y_train)\n",
    "y_pred = model.predict(x_test)\n",
    "print(algo)\n",
    "print(confusion_matrix(y_test, y_pred), '\\n\\n')\n",
    "acc = accuracy_score(y_test, y_pred) * 100\n",
    "print('Accuracy:', acc)\n",
    "rec = recall_score(y_test, y_pred) * 100\n",
    "print('Recall:', rec)\n",
    "pre = precision_score(y_test, y_pred) * 100\n",
    "print('Precision:', pre)\n",
    "f1s = f1_score(y_test, y_pred) * 100\n",
    "print('F score:', f1s)\n",
    "tn, fp, fn, tp = confusion_matrix(y_test, y_pred).ravel()\n",
    "spc = tn / (tn+fp)\n",
    "print('Specificity:', spc)\n",
    "\n",
    "algos.append(algo)\n",
    "accuracy.append(acc)\n",
    "recall.append(rec)\n",
    "precision.append(pre)\n",
    "f1Score.append(f1s)\n",
    "specificity.append(spc)"
   ]
  },
  {
   "cell_type": "code",
   "execution_count": 14,
   "id": "7a6a1511",
   "metadata": {},
   "outputs": [
    {
     "name": "stdout",
     "output_type": "stream",
     "text": [
      "Adaboost\n",
      "[[44  1]\n",
      " [ 5 30]] \n",
      "\n",
      "\n",
      "Accuracy: 92.5\n",
      "Recall: 85.71428571428571\n",
      "Precision: 96.7741935483871\n",
      "F score: 90.90909090909089\n",
      "Specificity: 0.9777777777777777\n"
     ]
    }
   ],
   "source": [
    "algo = \"Adaboost\"\n",
    "model = AdaBoostClassifier()\n",
    "model.fit(x_train, y_train)\n",
    "y_pred = model.predict(x_test)\n",
    "print(algo)\n",
    "print(confusion_matrix(y_test, y_pred), '\\n\\n')\n",
    "acc = accuracy_score(y_test, y_pred) * 100\n",
    "print('Accuracy:', acc)\n",
    "rec = recall_score(y_test, y_pred) * 100\n",
    "print('Recall:', rec)\n",
    "pre = precision_score(y_test, y_pred) * 100\n",
    "print('Precision:', pre)\n",
    "f1s = f1_score(y_test, y_pred) * 100\n",
    "print('F score:', f1s)\n",
    "tn, fp, fn, tp = confusion_matrix(y_test, y_pred).ravel()\n",
    "spc = tn / (tn+fp)\n",
    "print('Specificity:', spc)\n",
    "\n",
    "algos.append(algo)\n",
    "accuracy.append(acc)\n",
    "recall.append(rec)\n",
    "precision.append(pre)\n",
    "f1Score.append(f1s)\n",
    "specificity.append(spc)"
   ]
  },
  {
   "cell_type": "code",
   "execution_count": 15,
   "id": "9b02b220",
   "metadata": {},
   "outputs": [
    {
     "name": "stdout",
     "output_type": "stream",
     "text": [
      "GradientBoost\n",
      "[[41  4]\n",
      " [ 4 31]] \n",
      "\n",
      "\n",
      "Accuracy: 90.0\n",
      "Recall: 88.57142857142857\n",
      "Precision: 88.57142857142857\n",
      "F score: 88.57142857142857\n",
      "Specificity: 0.9111111111111111\n"
     ]
    }
   ],
   "source": [
    "algo = \"GradientBoost\"\n",
    "model = GradientBoostingClassifier()\n",
    "model.fit(x_train, y_train)\n",
    "y_pred = model.predict(x_test)\n",
    "print(algo)\n",
    "print(confusion_matrix(y_test, y_pred), '\\n\\n')\n",
    "acc = accuracy_score(y_test, y_pred) * 100\n",
    "print('Accuracy:', acc)\n",
    "rec = recall_score(y_test, y_pred) * 100\n",
    "print('Recall:', rec)\n",
    "pre = precision_score(y_test, y_pred) * 100\n",
    "print('Precision:', pre)\n",
    "f1s = f1_score(y_test, y_pred) * 100\n",
    "print('F score:', f1s)\n",
    "tn, fp, fn, tp = confusion_matrix(y_test, y_pred).ravel()\n",
    "spc = tn / (tn+fp)\n",
    "print('Specificity:', spc)\n",
    "\n",
    "algos.append(algo)\n",
    "accuracy.append(acc)\n",
    "recall.append(rec)\n",
    "precision.append(pre)\n",
    "f1Score.append(f1s)\n",
    "specificity.append(spc)"
   ]
  },
  {
   "cell_type": "code",
   "execution_count": 16,
   "id": "73cc999a",
   "metadata": {},
   "outputs": [
    {
     "name": "stdout",
     "output_type": "stream",
     "text": [
      "Random forest\n",
      "[[41  4]\n",
      " [ 5 30]] \n",
      "\n",
      "\n",
      "Accuracy: 88.75\n",
      "Recall: 85.71428571428571\n",
      "Precision: 88.23529411764706\n",
      "F score: 86.95652173913044\n",
      "Specificity: 0.9111111111111111\n"
     ]
    }
   ],
   "source": [
    "algo = \"Random forest\"\n",
    "model = RandomForestClassifier()\n",
    "model.fit(x_train, y_train)\n",
    "y_pred = model.predict(x_test)\n",
    "print(algo)\n",
    "print(confusion_matrix(y_test, y_pred), '\\n\\n')\n",
    "acc = accuracy_score(y_test, y_pred) * 100\n",
    "print('Accuracy:', acc)\n",
    "rec = recall_score(y_test, y_pred) * 100\n",
    "print('Recall:', rec)\n",
    "pre = precision_score(y_test, y_pred) * 100\n",
    "print('Precision:', pre)\n",
    "f1s = f1_score(y_test, y_pred) * 100\n",
    "print('F score:', f1s)\n",
    "tn, fp, fn, tp = confusion_matrix(y_test, y_pred).ravel()\n",
    "spc = tn / (tn+fp)\n",
    "print('Specificity:', spc)\n",
    "\n",
    "algos.append(algo)\n",
    "accuracy.append(acc)\n",
    "recall.append(rec)\n",
    "precision.append(pre)\n",
    "f1Score.append(f1s)\n",
    "specificity.append(spc)"
   ]
  },
  {
   "cell_type": "code",
   "execution_count": 17,
   "id": "a9826441",
   "metadata": {},
   "outputs": [
    {
     "name": "stdout",
     "output_type": "stream",
     "text": [
      "Logistic Regression :      56.25 ,   0.0 ,   0.0 ,   0.0\n",
      "K Nearest Neighbour :      78.75 ,   60.0 ,   87.5 ,   71.1864406779661\n",
      "Decision Tree :      81.25 ,   71.42857142857143 ,   83.33333333333334 ,   76.92307692307692\n",
      "Naive Bayes :      90.0 ,   85.71428571428571 ,   90.9090909090909 ,   88.23529411764706\n",
      "SVM :      73.75 ,   48.57142857142857 ,   85.0 ,   61.81818181818183\n",
      "Adaboost :      92.5 ,   85.71428571428571 ,   96.7741935483871 ,   90.90909090909089\n",
      "GradientBoost :      90.0 ,   88.57142857142857 ,   88.57142857142857 ,   88.57142857142857\n",
      "Random forest :      88.75 ,   85.71428571428571 ,   88.23529411764706 ,   86.95652173913044\n"
     ]
    }
   ],
   "source": [
    "mx = 0\n",
    "for i in range(len(algos)):\n",
    "    print(algos[i], ':     ', accuracy[i],',  ', recall[i],',  ', precision[i],',  ', f1Score[i])\n",
    "    if accuracy[i] > accuracy[mx]:\n",
    "        mx = i"
   ]
  },
  {
   "cell_type": "code",
   "execution_count": 18,
   "id": "d13959ef",
   "metadata": {},
   "outputs": [
    {
     "name": "stdout",
     "output_type": "stream",
     "text": [
      "Maximum Accuracy :  88.75 of Random forest algorithm.\n"
     ]
    }
   ],
   "source": [
    "print('Maximum Accuracy : ', accuracy[i], 'of', algos[i], 'algorithm.')"
   ]
  },
  {
   "cell_type": "code",
   "execution_count": 20,
   "id": "586e7850",
   "metadata": {},
   "outputs": [
    {
     "data": {
      "image/png": "[encoded data removed]",
      "text/plain": [
       "<Figure size 432x288 with 1 Axes>"
      ]
     },
     "metadata": {},
     "output_type": "display_data"
    }
   ],
   "source": [
    "fig = plt.figure()\n",
    "fig.patch.set_facecolor('grey')\n",
    "plt.bar(algos, accuracy)\n",
    "plt.xticks(rotation = 45) \n",
    "plt.show()"
   ]
  },
  {
   "cell_type": "code",
   "execution_count": null,
   "id": "7016ad1b",
   "metadata": {},
   "outputs": [],
   "source": []
  }
 ],
 "metadata": {
  "kernelspec": {
   "display_name": "Python 3",
   "language": "python",
   "name": "python3"
  },
  "language_info": {
   "codemirror_mode": {
    "name": "ipython",
    "version": 3
   },
   "file_extension": ".py",
   "mimetype": "text/x-python",
   "name": "python",
   "nbconvert_exporter": "python",
   "pygments_lexer": "ipython3",
   "version": "3.8.8"
  }
 },
 "nbformat": 4,
 "nbformat_minor": 5
}
