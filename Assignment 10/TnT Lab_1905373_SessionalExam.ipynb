{
 "cells": [
  {
   "cell_type": "markdown",
   "id": "e2eaf700",
   "metadata": {},
   "source": [
    "# TnT Lab Sessional Exam\n",
    "#### Of:\n",
    "Akanksha N Shenoy, 1905373"
   ]
  },
  {
   "cell_type": "code",
   "execution_count": 1,
   "id": "6ea7a625",
   "metadata": {},
   "outputs": [],
   "source": [
    "import pandas as pd\n",
    "import numpy as np\n",
    "import matplotlib.pyplot as plt\n",
    "from sklearn.model_selection import train_test_split\n",
    "from sklearn import preprocessing\n",
    "import seaborn as sns\n",
    "\n",
    "from sklearn.neighbors import KNeighborsClassifier\n",
    "from sklearn.naive_bayes import GaussianNB\n",
    "from sklearn.svm import SVC\n",
    "from sklearn.ensemble import AdaBoostClassifier\n",
    "\n",
    "from sklearn.metrics import confusion_matrix\n",
    "from sklearn.metrics import accuracy_score\n",
    "from sklearn.metrics import recall_score\n",
    "from sklearn.metrics import precision_score\n",
    "from sklearn.metrics import f1_score\n",
    "from sklearn.metrics import classification_report\n",
    "\n",
    "import warnings\n",
    "warnings.filterwarnings('ignore')"
   ]
  },
  {
   "cell_type": "code",
   "execution_count": 2,
   "id": "8239dbe0",
   "metadata": {},
   "outputs": [],
   "source": [
    "df = pd.read_csv('iris.csv')"
   ]
  },
  {
   "cell_type": "code",
   "execution_count": 3,
   "id": "da3c1592",
   "metadata": {},
   "outputs": [
    {
     "data": {
      "text/html": [
       "<div>\n",
       "<style scoped>\n",
       "    .dataframe tbody tr th:only-of-type {\n",
       "        vertical-align: middle;\n",
       "    }\n",
       "\n",
       "    .dataframe tbody tr th {\n",
       "        vertical-align: top;\n",
       "    }\n",
       "\n",
       "    .dataframe thead th {\n",
       "        text-align: right;\n",
       "    }\n",
       "</style>\n",
       "<table border=\"1\" class=\"dataframe\">\n",
       "  <thead>\n",
       "    <tr style=\"text-align: right;\">\n",
       "      <th></th>\n",
       "      <th>sepal_length</th>\n",
       "      <th>sepal_width</th>\n",
       "      <th>petal_length</th>\n",
       "      <th>petal_width</th>\n",
       "      <th>class</th>\n",
       "    </tr>\n",
       "  </thead>\n",
       "  <tbody>\n",
       "    <tr>\n",
       "      <th>0</th>\n",
       "      <td>5.1</td>\n",
       "      <td>3.5</td>\n",
       "      <td>1.4</td>\n",
       "      <td>0.2</td>\n",
       "      <td>Iris-setosa</td>\n",
       "    </tr>\n",
       "    <tr>\n",
       "      <th>1</th>\n",
       "      <td>4.9</td>\n",
       "      <td>3.0</td>\n",
       "      <td>1.4</td>\n",
       "      <td>0.2</td>\n",
       "      <td>Iris-setosa</td>\n",
       "    </tr>\n",
       "    <tr>\n",
       "      <th>2</th>\n",
       "      <td>4.7</td>\n",
       "      <td>3.2</td>\n",
       "      <td>1.3</td>\n",
       "      <td>0.2</td>\n",
       "      <td>Iris-setosa</td>\n",
       "    </tr>\n",
       "    <tr>\n",
       "      <th>3</th>\n",
       "      <td>4.6</td>\n",
       "      <td>3.1</td>\n",
       "      <td>1.5</td>\n",
       "      <td>0.2</td>\n",
       "      <td>Iris-setosa</td>\n",
       "    </tr>\n",
       "    <tr>\n",
       "      <th>4</th>\n",
       "      <td>5.0</td>\n",
       "      <td>3.6</td>\n",
       "      <td>1.4</td>\n",
       "      <td>0.2</td>\n",
       "      <td>Iris-setosa</td>\n",
       "    </tr>\n",
       "    <tr>\n",
       "      <th>5</th>\n",
       "      <td>5.4</td>\n",
       "      <td>3.9</td>\n",
       "      <td>1.7</td>\n",
       "      <td>0.4</td>\n",
       "      <td>Iris-setosa</td>\n",
       "    </tr>\n",
       "    <tr>\n",
       "      <th>6</th>\n",
       "      <td>4.6</td>\n",
       "      <td>3.4</td>\n",
       "      <td>1.4</td>\n",
       "      <td>0.3</td>\n",
       "      <td>Iris-setosa</td>\n",
       "    </tr>\n",
       "    <tr>\n",
       "      <th>7</th>\n",
       "      <td>5.0</td>\n",
       "      <td>3.4</td>\n",
       "      <td>1.5</td>\n",
       "      <td>0.2</td>\n",
       "      <td>Iris-setosa</td>\n",
       "    </tr>\n",
       "    <tr>\n",
       "      <th>8</th>\n",
       "      <td>4.4</td>\n",
       "      <td>2.9</td>\n",
       "      <td>1.4</td>\n",
       "      <td>0.2</td>\n",
       "      <td>Iris-setosa</td>\n",
       "    </tr>\n",
       "    <tr>\n",
       "      <th>9</th>\n",
       "      <td>4.9</td>\n",
       "      <td>3.1</td>\n",
       "      <td>1.5</td>\n",
       "      <td>0.1</td>\n",
       "      <td>Iris-setosa</td>\n",
       "    </tr>\n",
       "  </tbody>\n",
       "</table>\n",
       "</div>"
      ],
      "text/plain": [
       "   sepal_length  sepal_width  petal_length  petal_width        class\n",
       "0           5.1          3.5           1.4          0.2  Iris-setosa\n",
       "1           4.9          3.0           1.4          0.2  Iris-setosa\n",
       "2           4.7          3.2           1.3          0.2  Iris-setosa\n",
       "3           4.6          3.1           1.5          0.2  Iris-setosa\n",
       "4           5.0          3.6           1.4          0.2  Iris-setosa\n",
       "5           5.4          3.9           1.7          0.4  Iris-setosa\n",
       "6           4.6          3.4           1.4          0.3  Iris-setosa\n",
       "7           5.0          3.4           1.5          0.2  Iris-setosa\n",
       "8           4.4          2.9           1.4          0.2  Iris-setosa\n",
       "9           4.9          3.1           1.5          0.1  Iris-setosa"
      ]
     },
     "execution_count": 3,
     "metadata": {},
     "output_type": "execute_result"
    }
   ],
   "source": [
    "df.head(n=10)"
   ]
  },
  {
   "cell_type": "code",
   "execution_count": 4,
   "id": "b444e74b",
   "metadata": {},
   "outputs": [],
   "source": [
    "classess = df['class'].unique()"
   ]
  },
  {
   "cell_type": "code",
   "execution_count": 5,
   "id": "665c6ba1",
   "metadata": {},
   "outputs": [
    {
     "name": "stdout",
     "output_type": "stream",
     "text": [
      "<class 'pandas.core.frame.DataFrame'>\n",
      "RangeIndex: 150 entries, 0 to 149\n",
      "Data columns (total 5 columns):\n",
      " #   Column        Non-Null Count  Dtype  \n",
      "---  ------        --------------  -----  \n",
      " 0   sepal_length  150 non-null    float64\n",
      " 1   sepal_width   150 non-null    float64\n",
      " 2   petal_length  150 non-null    float64\n",
      " 3   petal_width   150 non-null    float64\n",
      " 4   class         150 non-null    object \n",
      "dtypes: float64(4), object(1)\n",
      "memory usage: 6.0+ KB\n"
     ]
    }
   ],
   "source": [
    "df.info()"
   ]
  },
  {
   "cell_type": "code",
   "execution_count": 6,
   "id": "a8e1d162",
   "metadata": {},
   "outputs": [],
   "source": [
    "# normalising:\n",
    "for col in df.columns[:-1]:\n",
    "    df[col] =df[col] / df[col].max()"
   ]
  },
  {
   "cell_type": "code",
   "execution_count": 7,
   "id": "adfa3ad2",
   "metadata": {},
   "outputs": [
    {
     "data": {
      "text/html": [
       "<div>\n",
       "<style scoped>\n",
       "    .dataframe tbody tr th:only-of-type {\n",
       "        vertical-align: middle;\n",
       "    }\n",
       "\n",
       "    .dataframe tbody tr th {\n",
       "        vertical-align: top;\n",
       "    }\n",
       "\n",
       "    .dataframe thead th {\n",
       "        text-align: right;\n",
       "    }\n",
       "</style>\n",
       "<table border=\"1\" class=\"dataframe\">\n",
       "  <thead>\n",
       "    <tr style=\"text-align: right;\">\n",
       "      <th></th>\n",
       "      <th>sepal_length</th>\n",
       "      <th>sepal_width</th>\n",
       "      <th>petal_length</th>\n",
       "      <th>petal_width</th>\n",
       "      <th>class</th>\n",
       "    </tr>\n",
       "  </thead>\n",
       "  <tbody>\n",
       "    <tr>\n",
       "      <th>0</th>\n",
       "      <td>0.645570</td>\n",
       "      <td>0.795455</td>\n",
       "      <td>0.202899</td>\n",
       "      <td>0.08</td>\n",
       "      <td>0</td>\n",
       "    </tr>\n",
       "    <tr>\n",
       "      <th>1</th>\n",
       "      <td>0.620253</td>\n",
       "      <td>0.681818</td>\n",
       "      <td>0.202899</td>\n",
       "      <td>0.08</td>\n",
       "      <td>0</td>\n",
       "    </tr>\n",
       "    <tr>\n",
       "      <th>2</th>\n",
       "      <td>0.594937</td>\n",
       "      <td>0.727273</td>\n",
       "      <td>0.188406</td>\n",
       "      <td>0.08</td>\n",
       "      <td>0</td>\n",
       "    </tr>\n",
       "    <tr>\n",
       "      <th>3</th>\n",
       "      <td>0.582278</td>\n",
       "      <td>0.704545</td>\n",
       "      <td>0.217391</td>\n",
       "      <td>0.08</td>\n",
       "      <td>0</td>\n",
       "    </tr>\n",
       "    <tr>\n",
       "      <th>4</th>\n",
       "      <td>0.632911</td>\n",
       "      <td>0.818182</td>\n",
       "      <td>0.202899</td>\n",
       "      <td>0.08</td>\n",
       "      <td>0</td>\n",
       "    </tr>\n",
       "  </tbody>\n",
       "</table>\n",
       "</div>"
      ],
      "text/plain": [
       "   sepal_length  sepal_width  petal_length  petal_width  class\n",
       "0      0.645570     0.795455      0.202899         0.08      0\n",
       "1      0.620253     0.681818      0.202899         0.08      0\n",
       "2      0.594937     0.727273      0.188406         0.08      0\n",
       "3      0.582278     0.704545      0.217391         0.08      0\n",
       "4      0.632911     0.818182      0.202899         0.08      0"
      ]
     },
     "execution_count": 7,
     "metadata": {},
     "output_type": "execute_result"
    }
   ],
   "source": [
    "le = preprocessing.LabelEncoder()\n",
    "df['class'] = le.fit_transform(df['class'])\n",
    "df.head()"
   ]
  },
  {
   "cell_type": "code",
   "execution_count": 8,
   "id": "1bd2277d",
   "metadata": {},
   "outputs": [
    {
     "data": {
      "text/plain": [
       "0    50\n",
       "1    50\n",
       "2    50\n",
       "Name: class, dtype: int64"
      ]
     },
     "execution_count": 8,
     "metadata": {},
     "output_type": "execute_result"
    }
   ],
   "source": [
    "df['class'].value_counts()"
   ]
  },
  {
   "cell_type": "code",
   "execution_count": 9,
   "id": "3fa9cce0",
   "metadata": {},
   "outputs": [
    {
     "data": {
      "text/html": [
       "<style  type=\"text/css\" >\n",
       "#T_d7ab7_row0_col0,#T_d7ab7_row1_col1,#T_d7ab7_row2_col2,#T_d7ab7_row3_col3,#T_d7ab7_row4_col4{\n",
       "            background-color:  #b40426;\n",
       "            color:  #f1f1f1;\n",
       "        }#T_d7ab7_row0_col1{\n",
       "            background-color:  #82a6fb;\n",
       "            color:  #000000;\n",
       "        }#T_d7ab7_row0_col2{\n",
       "            background-color:  #d44e41;\n",
       "            color:  #000000;\n",
       "        }#T_d7ab7_row0_col3{\n",
       "            background-color:  #e0654f;\n",
       "            color:  #000000;\n",
       "        }#T_d7ab7_row0_col4{\n",
       "            background-color:  #e46e56;\n",
       "            color:  #000000;\n",
       "        }#T_d7ab7_row1_col0,#T_d7ab7_row1_col2,#T_d7ab7_row1_col3,#T_d7ab7_row1_col4,#T_d7ab7_row2_col1,#T_d7ab7_row4_col1{\n",
       "            background-color:  #3b4cc0;\n",
       "            color:  #f1f1f1;\n",
       "        }#T_d7ab7_row2_col0{\n",
       "            background-color:  #da5a49;\n",
       "            color:  #000000;\n",
       "        }#T_d7ab7_row2_col3,#T_d7ab7_row3_col4{\n",
       "            background-color:  #be242e;\n",
       "            color:  #f1f1f1;\n",
       "        }#T_d7ab7_row2_col4,#T_d7ab7_row4_col2{\n",
       "            background-color:  #c12b30;\n",
       "            color:  #f1f1f1;\n",
       "        }#T_d7ab7_row3_col0{\n",
       "            background-color:  #e7745b;\n",
       "            color:  #000000;\n",
       "        }#T_d7ab7_row3_col1{\n",
       "            background-color:  #485fd1;\n",
       "            color:  #f1f1f1;\n",
       "        }#T_d7ab7_row3_col2{\n",
       "            background-color:  #bd1f2d;\n",
       "            color:  #f1f1f1;\n",
       "        }#T_d7ab7_row4_col0{\n",
       "            background-color:  #ed8366;\n",
       "            color:  #000000;\n",
       "        }#T_d7ab7_row4_col3{\n",
       "            background-color:  #c0282f;\n",
       "            color:  #f1f1f1;\n",
       "        }</style><table id=\"T_d7ab7_\" ><thead>    <tr>        <th class=\"blank level0\" ></th>        <th class=\"col_heading level0 col0\" >sepal_length</th>        <th class=\"col_heading level0 col1\" >sepal_width</th>        <th class=\"col_heading level0 col2\" >petal_length</th>        <th class=\"col_heading level0 col3\" >petal_width</th>        <th class=\"col_heading level0 col4\" >class</th>    </tr></thead><tbody>\n",
       "                <tr>\n",
       "                        <th id=\"T_d7ab7_level0_row0\" class=\"row_heading level0 row0\" >sepal_length</th>\n",
       "                        <td id=\"T_d7ab7_row0_col0\" class=\"data row0 col0\" >1.000000</td>\n",
       "                        <td id=\"T_d7ab7_row0_col1\" class=\"data row0 col1\" >-0.109369</td>\n",
       "                        <td id=\"T_d7ab7_row0_col2\" class=\"data row0 col2\" >0.871754</td>\n",
       "                        <td id=\"T_d7ab7_row0_col3\" class=\"data row0 col3\" >0.817954</td>\n",
       "                        <td id=\"T_d7ab7_row0_col4\" class=\"data row0 col4\" >0.782561</td>\n",
       "            </tr>\n",
       "            <tr>\n",
       "                        <th id=\"T_d7ab7_level0_row1\" class=\"row_heading level0 row1\" >sepal_width</th>\n",
       "                        <td id=\"T_d7ab7_row1_col0\" class=\"data row1 col0\" >-0.109369</td>\n",
       "                        <td id=\"T_d7ab7_row1_col1\" class=\"data row1 col1\" >1.000000</td>\n",
       "                        <td id=\"T_d7ab7_row1_col2\" class=\"data row1 col2\" >-0.420516</td>\n",
       "                        <td id=\"T_d7ab7_row1_col3\" class=\"data row1 col3\" >-0.356544</td>\n",
       "                        <td id=\"T_d7ab7_row1_col4\" class=\"data row1 col4\" >-0.419446</td>\n",
       "            </tr>\n",
       "            <tr>\n",
       "                        <th id=\"T_d7ab7_level0_row2\" class=\"row_heading level0 row2\" >petal_length</th>\n",
       "                        <td id=\"T_d7ab7_row2_col0\" class=\"data row2 col0\" >0.871754</td>\n",
       "                        <td id=\"T_d7ab7_row2_col1\" class=\"data row2 col1\" >-0.420516</td>\n",
       "                        <td id=\"T_d7ab7_row2_col2\" class=\"data row2 col2\" >1.000000</td>\n",
       "                        <td id=\"T_d7ab7_row2_col3\" class=\"data row2 col3\" >0.962757</td>\n",
       "                        <td id=\"T_d7ab7_row2_col4\" class=\"data row2 col4\" >0.949043</td>\n",
       "            </tr>\n",
       "            <tr>\n",
       "                        <th id=\"T_d7ab7_level0_row3\" class=\"row_heading level0 row3\" >petal_width</th>\n",
       "                        <td id=\"T_d7ab7_row3_col0\" class=\"data row3 col0\" >0.817954</td>\n",
       "                        <td id=\"T_d7ab7_row3_col1\" class=\"data row3 col1\" >-0.356544</td>\n",
       "                        <td id=\"T_d7ab7_row3_col2\" class=\"data row3 col2\" >0.962757</td>\n",
       "                        <td id=\"T_d7ab7_row3_col3\" class=\"data row3 col3\" >1.000000</td>\n",
       "                        <td id=\"T_d7ab7_row3_col4\" class=\"data row3 col4\" >0.956464</td>\n",
       "            </tr>\n",
       "            <tr>\n",
       "                        <th id=\"T_d7ab7_level0_row4\" class=\"row_heading level0 row4\" >class</th>\n",
       "                        <td id=\"T_d7ab7_row4_col0\" class=\"data row4 col0\" >0.782561</td>\n",
       "                        <td id=\"T_d7ab7_row4_col1\" class=\"data row4 col1\" >-0.419446</td>\n",
       "                        <td id=\"T_d7ab7_row4_col2\" class=\"data row4 col2\" >0.949043</td>\n",
       "                        <td id=\"T_d7ab7_row4_col3\" class=\"data row4 col3\" >0.956464</td>\n",
       "                        <td id=\"T_d7ab7_row4_col4\" class=\"data row4 col4\" >1.000000</td>\n",
       "            </tr>\n",
       "    </tbody></table>"
      ],
      "text/plain": [
       "<pandas.io.formats.style.Styler at 0x29b417c8520>"
      ]
     },
     "execution_count": 9,
     "metadata": {},
     "output_type": "execute_result"
    }
   ],
   "source": [
    "corr = df.corr()\n",
    "corr.style.background_gradient(cmap='coolwarm')"
   ]
  },
  {
   "cell_type": "code",
   "execution_count": 10,
   "id": "804bb35e",
   "metadata": {},
   "outputs": [],
   "source": [
    "x = df.drop(columns = ['class'])\n",
    "y = df['class']"
   ]
  },
  {
   "cell_type": "code",
   "execution_count": 11,
   "id": "36f406ac",
   "metadata": {},
   "outputs": [
    {
     "data": {
      "text/plain": [
       "((105, 4), (105,), (45, 4), (45,))"
      ]
     },
     "execution_count": 11,
     "metadata": {},
     "output_type": "execute_result"
    }
   ],
   "source": [
    "x_train, x_test, y_train, y_test = train_test_split(x, y,test_size = 0.3)\n",
    "x_train.shape, y_train.shape, x_test.shape, y_test.shape"
   ]
  },
  {
   "cell_type": "code",
   "execution_count": 12,
   "id": "96f083fc",
   "metadata": {},
   "outputs": [],
   "source": [
    "algos = []\n",
    "accuracy = []\n",
    "recall = []\n",
    "precision = []\n",
    "f1Score = []"
   ]
  },
  {
   "cell_type": "code",
   "execution_count": 13,
   "id": "48768c49",
   "metadata": {},
   "outputs": [
    {
     "name": "stdout",
     "output_type": "stream",
     "text": [
      "SVM\n",
      "[[20  0  0]\n",
      " [ 0 11  0]\n",
      " [ 0  1 13]] \n",
      "\n",
      "\n",
      "Accuracy: 97.77777777777777\n",
      "Recall: 97.77777777777777\n",
      "Precision: 97.96296296296295\n",
      "F score: 97.78493469314725\n",
      "                 precision    recall  f1-score   support\n",
      "\n",
      "    Iris-setosa       1.00      1.00      1.00        20\n",
      "Iris-versicolor       0.92      1.00      0.96        11\n",
      " Iris-virginica       1.00      0.93      0.96        14\n",
      "\n",
      "       accuracy                           0.98        45\n",
      "      macro avg       0.97      0.98      0.97        45\n",
      "   weighted avg       0.98      0.98      0.98        45\n",
      "\n"
     ]
    }
   ],
   "source": [
    "algo = \"SVM\"\n",
    "model = SVC(kernel='poly', degree=3, C=1).fit(x_train, y_train)\n",
    "model.fit(x_train, y_train)\n",
    "y_pred = model.predict(x_test)\n",
    "print(algo)\n",
    "print(confusion_matrix(y_test, y_pred), '\\n\\n')\n",
    "acc = accuracy_score(y_test, y_pred) * 100\n",
    "print('Accuracy:', acc)\n",
    "rec = recall_score(y_test, y_pred, average='weighted') * 100\n",
    "print('Recall:', rec)\n",
    "pre = precision_score(y_test, y_pred, average='weighted') * 100\n",
    "print('Precision:', pre)\n",
    "f1s = f1_score(y_test, y_pred, average='weighted') * 100\n",
    "print('F score:', f1s)\n",
    "\n",
    "print(classification_report(y_test, y_pred, target_names=classess))\n",
    "\n",
    "algos.append(algo)\n",
    "accuracy.append(acc)\n",
    "recall.append(rec)\n",
    "precision.append(pre)\n",
    "f1Score.append(f1s)"
   ]
  },
  {
   "cell_type": "code",
   "execution_count": 14,
   "id": "562b1509",
   "metadata": {},
   "outputs": [
    {
     "name": "stdout",
     "output_type": "stream",
     "text": [
      "Adaboost\n",
      "[[20  0  0]\n",
      " [ 0 10  1]\n",
      " [ 0  1 13]] \n",
      "\n",
      "\n",
      "Accuracy: 95.55555555555556\n",
      "Recall: 95.55555555555556\n",
      "Precision: 95.55555555555556\n",
      "F score: 95.55555555555556\n",
      "                 precision    recall  f1-score   support\n",
      "\n",
      "    Iris-setosa       1.00      1.00      1.00        20\n",
      "Iris-versicolor       0.91      0.91      0.91        11\n",
      " Iris-virginica       0.93      0.93      0.93        14\n",
      "\n",
      "       accuracy                           0.96        45\n",
      "      macro avg       0.95      0.95      0.95        45\n",
      "   weighted avg       0.96      0.96      0.96        45\n",
      "\n"
     ]
    }
   ],
   "source": [
    "algo = \"Adaboost\"\n",
    "model = AdaBoostClassifier().fit(x_train, y_train)\n",
    "model.fit(x_train, y_train)\n",
    "y_pred = model.predict(x_test)\n",
    "print(algo)\n",
    "print(confusion_matrix(y_test, y_pred), '\\n\\n')\n",
    "acc = accuracy_score(y_test, y_pred) * 100\n",
    "print('Accuracy:', acc)\n",
    "rec = recall_score(y_test, y_pred, average='weighted') * 100\n",
    "print('Recall:', rec)\n",
    "pre = precision_score(y_test, y_pred, average='weighted') * 100\n",
    "print('Precision:', pre)\n",
    "f1s = f1_score(y_test, y_pred, average='weighted') * 100\n",
    "print('F score:', f1s)\n",
    "\n",
    "print(classification_report(y_test, y_pred, target_names=classess))\n",
    "\n",
    "algos.append(algo)\n",
    "accuracy.append(acc)\n",
    "recall.append(rec)\n",
    "precision.append(pre)\n",
    "f1Score.append(f1s)"
   ]
  },
  {
   "cell_type": "code",
   "execution_count": 15,
   "id": "9a723abe",
   "metadata": {},
   "outputs": [
    {
     "name": "stdout",
     "output_type": "stream",
     "text": [
      "Naive Bayes\n",
      "[[20  0  0]\n",
      " [ 0 10  1]\n",
      " [ 0  1 13]] \n",
      "\n",
      "\n",
      "Accuracy: 95.55555555555556\n",
      "Recall: 95.55555555555556\n",
      "Precision: 95.55555555555556\n",
      "F score: 95.55555555555556\n",
      "                 precision    recall  f1-score   support\n",
      "\n",
      "    Iris-setosa       1.00      1.00      1.00        20\n",
      "Iris-versicolor       0.91      0.91      0.91        11\n",
      " Iris-virginica       0.93      0.93      0.93        14\n",
      "\n",
      "       accuracy                           0.96        45\n",
      "      macro avg       0.95      0.95      0.95        45\n",
      "   weighted avg       0.96      0.96      0.96        45\n",
      "\n"
     ]
    }
   ],
   "source": [
    "algo = \"Naive Bayes\"\n",
    "model = GaussianNB().fit(x_train, y_train)\n",
    "model.fit(x_train, y_train)\n",
    "y_pred = model.predict(x_test)\n",
    "print(algo)\n",
    "print(confusion_matrix(y_test, y_pred), '\\n\\n')\n",
    "acc = accuracy_score(y_test, y_pred) * 100\n",
    "print('Accuracy:', acc)\n",
    "rec = recall_score(y_test, y_pred, average='weighted') * 100\n",
    "print('Recall:', rec)\n",
    "pre = precision_score(y_test, y_pred, average='weighted') * 100\n",
    "print('Precision:', pre)\n",
    "f1s = f1_score(y_test, y_pred, average='weighted') * 100\n",
    "print('F score:', f1s)\n",
    "\n",
    "print(classification_report(y_test, y_pred, target_names=classess))\n",
    "\n",
    "algos.append(algo)\n",
    "accuracy.append(acc)\n",
    "recall.append(rec)\n",
    "precision.append(pre)\n",
    "f1Score.append(f1s)"
   ]
  },
  {
   "cell_type": "code",
   "execution_count": 16,
   "id": "dda9336d",
   "metadata": {},
   "outputs": [
    {
     "name": "stdout",
     "output_type": "stream",
     "text": [
      "K Nearest Neighbour\n",
      "[[20  0  0]\n",
      " [ 0 10  1]\n",
      " [ 0  1 13]] \n",
      "\n",
      "\n",
      "Accuracy: 95.55555555555556\n",
      "Recall: 95.55555555555556\n",
      "Precision: 95.55555555555556\n",
      "F score: 95.55555555555556\n",
      "                 precision    recall  f1-score   support\n",
      "\n",
      "    Iris-setosa       1.00      1.00      1.00        20\n",
      "Iris-versicolor       0.91      0.91      0.91        11\n",
      " Iris-virginica       0.93      0.93      0.93        14\n",
      "\n",
      "       accuracy                           0.96        45\n",
      "      macro avg       0.95      0.95      0.95        45\n",
      "   weighted avg       0.96      0.96      0.96        45\n",
      "\n"
     ]
    }
   ],
   "source": [
    "algo = \"K Nearest Neighbour\"\n",
    "model = KNeighborsClassifier().fit(x_train, y_train)\n",
    "model.fit(x_train, y_train)\n",
    "y_pred = model.predict(x_test)\n",
    "print(algo)\n",
    "print(confusion_matrix(y_test, y_pred), '\\n\\n')\n",
    "acc = accuracy_score(y_test, y_pred) * 100\n",
    "print('Accuracy:', acc)\n",
    "rec = recall_score(y_test, y_pred, average='weighted') * 100\n",
    "print('Recall:', rec)\n",
    "pre = precision_score(y_test, y_pred, average='weighted') * 100\n",
    "print('Precision:', pre)\n",
    "f1s = f1_score(y_test, y_pred, average='weighted') * 100\n",
    "print('F score:', f1s)\n",
    "\n",
    "print(classification_report(y_test, y_pred, target_names=classess))\n",
    "\n",
    "algos.append(algo)\n",
    "accuracy.append(acc)\n",
    "recall.append(rec)\n",
    "precision.append(pre)\n",
    "f1Score.append(f1s)"
   ]
  },
  {
   "cell_type": "markdown",
   "id": "2fdb2761",
   "metadata": {},
   "source": [
    "## Ans 2:"
   ]
  },
  {
   "cell_type": "code",
   "execution_count": 17,
   "id": "e189d4dd",
   "metadata": {},
   "outputs": [
    {
     "name": "stdout",
     "output_type": "stream",
     "text": [
      "SVM :      97.77777777777777 ,   97.77777777777777 ,   97.96296296296295 ,   97.78493469314725\n",
      "Adaboost :      95.55555555555556 ,   95.55555555555556 ,   95.55555555555556 ,   95.55555555555556\n",
      "Naive Bayes :      95.55555555555556 ,   95.55555555555556 ,   95.55555555555556 ,   95.55555555555556\n",
      "K Nearest Neighbour :      95.55555555555556 ,   95.55555555555556 ,   95.55555555555556 ,   95.55555555555556\n"
     ]
    }
   ],
   "source": [
    "mx = 0\n",
    "for i in range(len(algos)):\n",
    "    print(algos[i], ':     ', accuracy[i],',  ', recall[i],',  ', precision[i],',  ', f1Score[i])\n",
    "    if accuracy[i] > accuracy[mx]:\n",
    "        mx = i"
   ]
  },
  {
   "cell_type": "code",
   "execution_count": 19,
   "id": "2486a0e5",
   "metadata": {},
   "outputs": [
    {
     "data": {
      "image/png": "[encoded data removed]",
      "text/plain": [
       "<Figure size 432x288 with 1 Axes>"
      ]
     },
     "metadata": {},
     "output_type": "display_data"
    }
   ],
   "source": [
    "fig = plt.figure()\n",
    "fig.patch.set_facecolor('grey')\n",
    "plt.bar(algos, accuracy)\n",
    "plt.xticks(rotation = 45) \n",
    "plt.show()"
   ]
  },
  {
   "cell_type": "markdown",
   "id": "0536d836",
   "metadata": {},
   "source": [
    "## Ans 4:"
   ]
  },
  {
   "cell_type": "code",
   "execution_count": 20,
   "id": "7700109e",
   "metadata": {},
   "outputs": [
    {
     "name": "stdout",
     "output_type": "stream",
     "text": [
      "5\n",
      "Factorial: 120\n"
     ]
    }
   ],
   "source": [
    "n = int(input())\n",
    "f = 1\n",
    "for i in range(2, n+1):\n",
    "    f *= i\n",
    "    \n",
    "print('Factorial:', f)"
   ]
  },
  {
   "cell_type": "code",
   "execution_count": null,
   "id": "1c026129",
   "metadata": {},
   "outputs": [],
   "source": []
  }
 ],
 "metadata": {
  "kernelspec": {
   "display_name": "Python 3",
   "language": "python",
   "name": "python3"
  },
  "language_info": {
   "codemirror_mode": {
    "name": "ipython",
    "version": 3
   },
   "file_extension": ".py",
   "mimetype": "text/x-python",
   "name": "python",
   "nbconvert_exporter": "python",
   "pygments_lexer": "ipython3",
   "version": "3.8.8"
  }
 },
 "nbformat": 4,
 "nbformat_minor": 5
}
